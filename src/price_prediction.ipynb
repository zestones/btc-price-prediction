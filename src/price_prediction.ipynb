{
 "cells": [
  {
   "cell_type": "code",
   "execution_count": 1,
   "metadata": {},
   "outputs": [],
   "source": [
    "from predictions.etl import ETL\n",
    "from predictions.evaluate import Evaluate\n",
    "from predictions.predict import Predict \n",
    "\n",
    "from keras.models import Sequential\n",
    "from keras.layers import Dense\n",
    "from keras.layers import LSTM"
   ]
  },
  {
   "cell_type": "code",
   "execution_count": 2,
   "metadata": {},
   "outputs": [],
   "source": [
    "def build_model(intput_shape):\n",
    "    model = Sequential()\n",
    "    \n",
    "    model.add(LSTM(128, return_sequences=True, input_shape=intput_shape))\n",
    "    model.add(LSTM(128))\n",
    "    model.add(Dense(1))\n",
    "    \n",
    "    return model"
   ]
  },
  {
   "cell_type": "code",
   "execution_count": 3,
   "metadata": {},
   "outputs": [],
   "source": [
    "etl = ETL(\"../data/timeseries/2015/merged.csv\", features=['PriceUSD'])"
   ]
  },
  {
   "cell_type": "code",
   "execution_count": 6,
   "metadata": {},
   "outputs": [
    {
     "name": "stdout",
     "output_type": "stream",
     "text": [
      "Epoch 1/100\n",
      "1/1 [==============================] - 6s 6s/step - loss: 0.2417 - val_loss: 0.1601\n",
      "Epoch 2/100\n",
      "1/1 [==============================] - 0s 63ms/step - loss: 0.1955 - val_loss: 0.1166\n",
      "Epoch 3/100\n",
      "1/1 [==============================] - 0s 66ms/step - loss: 0.1468 - val_loss: 0.0683\n",
      "Epoch 4/100\n",
      "1/1 [==============================] - 0s 60ms/step - loss: 0.0957 - val_loss: 0.0204\n",
      "Epoch 5/100\n",
      "1/1 [==============================] - 0s 88ms/step - loss: 0.0439 - val_loss: 0.0529\n",
      "Epoch 6/100\n",
      "1/1 [==============================] - 0s 84ms/step - loss: 0.0471 - val_loss: 0.0820\n",
      "Epoch 7/100\n",
      "1/1 [==============================] - 0s 87ms/step - loss: 0.0758 - val_loss: 0.0803\n",
      "Epoch 8/100\n",
      "1/1 [==============================] - 0s 68ms/step - loss: 0.0742 - val_loss: 0.0607\n",
      "Epoch 9/100\n",
      "1/1 [==============================] - 0s 78ms/step - loss: 0.0549 - val_loss: 0.0344\n",
      "Epoch 10/100\n",
      "1/1 [==============================] - 0s 68ms/step - loss: 0.0367 - val_loss: 0.0164\n",
      "Epoch 11/100\n",
      "1/1 [==============================] - 0s 63ms/step - loss: 0.0343 - val_loss: 0.0208\n",
      "Epoch 12/100\n",
      "1/1 [==============================] - 0s 76ms/step - loss: 0.0442 - val_loss: 0.0276\n",
      "Epoch 13/100\n",
      "1/1 [==============================] - 0s 65ms/step - loss: 0.0531 - val_loss: 0.0301\n",
      "Epoch 14/100\n",
      "1/1 [==============================] - 0s 73ms/step - loss: 0.0557 - val_loss: 0.0273\n",
      "Epoch 15/100\n",
      "1/1 [==============================] - 0s 70ms/step - loss: 0.0528 - val_loss: 0.0213\n",
      "Epoch 16/100\n",
      "1/1 [==============================] - 0s 70ms/step - loss: 0.0455 - val_loss: 0.0169\n",
      "Epoch 17/100\n",
      "1/1 [==============================] - 0s 63ms/step - loss: 0.0362 - val_loss: 0.0197\n",
      "Epoch 18/100\n",
      "1/1 [==============================] - 0s 65ms/step - loss: 0.0337 - val_loss: 0.0316\n",
      "Epoch 19/100\n",
      "1/1 [==============================] - 0s 60ms/step - loss: 0.0352 - val_loss: 0.0406\n",
      "Epoch 20/100\n",
      "1/1 [==============================] - 0s 65ms/step - loss: 0.0395 - val_loss: 0.0466\n",
      "Epoch 21/100\n",
      "1/1 [==============================] - 0s 93ms/step - loss: 0.0428 - val_loss: 0.0453\n",
      "Epoch 22/100\n",
      "1/1 [==============================] - 0s 88ms/step - loss: 0.0420 - val_loss: 0.0380\n",
      "Epoch 23/100\n",
      "1/1 [==============================] - 0s 74ms/step - loss: 0.0382 - val_loss: 0.0300\n",
      "Epoch 24/100\n",
      "1/1 [==============================] - 0s 70ms/step - loss: 0.0343 - val_loss: 0.0210\n",
      "Epoch 25/100\n",
      "1/1 [==============================] - 0s 64ms/step - loss: 0.0329 - val_loss: 0.0155\n",
      "Epoch 26/100\n",
      "1/1 [==============================] - 0s 60ms/step - loss: 0.0330 - val_loss: 0.0164\n",
      "Epoch 27/100\n",
      "1/1 [==============================] - 0s 56ms/step - loss: 0.0347 - val_loss: 0.0178\n",
      "Epoch 28/100\n",
      "1/1 [==============================] - 0s 63ms/step - loss: 0.0366 - val_loss: 0.0177\n",
      "Epoch 29/100\n",
      "1/1 [==============================] - 0s 62ms/step - loss: 0.0363 - val_loss: 0.0164\n",
      "Epoch 30/100\n",
      "1/1 [==============================] - 0s 60ms/step - loss: 0.0344 - val_loss: 0.0155\n",
      "Epoch 31/100\n",
      "1/1 [==============================] - 0s 52ms/step - loss: 0.0324 - val_loss: 0.0168\n",
      "Epoch 32/100\n",
      "1/1 [==============================] - 0s 59ms/step - loss: 0.0317 - val_loss: 0.0211\n",
      "Epoch 33/100\n",
      "1/1 [==============================] - 0s 69ms/step - loss: 0.0317 - val_loss: 0.0251\n",
      "Epoch 34/100\n",
      "1/1 [==============================] - 0s 63ms/step - loss: 0.0321 - val_loss: 0.0282\n",
      "Epoch 35/100\n",
      "1/1 [==============================] - 0s 146ms/step - loss: 0.0329 - val_loss: 0.0287\n",
      "Epoch 36/100\n",
      "1/1 [==============================] - 0s 78ms/step - loss: 0.0331 - val_loss: 0.0264\n",
      "Epoch 37/100\n",
      "1/1 [==============================] - 0s 107ms/step - loss: 0.0322 - val_loss: 0.0226\n",
      "Epoch 38/100\n",
      "1/1 [==============================] - 0s 91ms/step - loss: 0.0313 - val_loss: 0.0184\n",
      "Epoch 39/100\n",
      "1/1 [==============================] - 0s 105ms/step - loss: 0.0306 - val_loss: 0.0152\n",
      "Epoch 40/100\n",
      "1/1 [==============================] - 0s 76ms/step - loss: 0.0300 - val_loss: 0.0150\n",
      "Epoch 41/100\n",
      "1/1 [==============================] - 0s 87ms/step - loss: 0.0300 - val_loss: 0.0154\n",
      "Epoch 42/100\n",
      "1/1 [==============================] - 0s 87ms/step - loss: 0.0307 - val_loss: 0.0153\n",
      "Epoch 43/100\n",
      "1/1 [==============================] - 0s 71ms/step - loss: 0.0305 - val_loss: 0.0150\n",
      "Epoch 44/100\n",
      "1/1 [==============================] - 0s 77ms/step - loss: 0.0295 - val_loss: 0.0146\n",
      "Epoch 45/100\n",
      "1/1 [==============================] - 0s 69ms/step - loss: 0.0291 - val_loss: 0.0149\n",
      "Epoch 46/100\n",
      "1/1 [==============================] - 0s 83ms/step - loss: 0.0290 - val_loss: 0.0156\n",
      "Epoch 47/100\n",
      "1/1 [==============================] - 0s 68ms/step - loss: 0.0290 - val_loss: 0.0158\n",
      "Epoch 48/100\n",
      "1/1 [==============================] - 0s 62ms/step - loss: 0.0289 - val_loss: 0.0151\n",
      "Epoch 49/100\n",
      "1/1 [==============================] - 0s 60ms/step - loss: 0.0286 - val_loss: 0.0145\n",
      "Epoch 50/100\n",
      "1/1 [==============================] - 0s 57ms/step - loss: 0.0282 - val_loss: 0.0142\n",
      "Epoch 51/100\n",
      "1/1 [==============================] - 0s 68ms/step - loss: 0.0281 - val_loss: 0.0144\n",
      "Epoch 52/100\n",
      "1/1 [==============================] - 0s 64ms/step - loss: 0.0282 - val_loss: 0.0143\n",
      "Epoch 53/100\n",
      "1/1 [==============================] - 0s 68ms/step - loss: 0.0280 - val_loss: 0.0140\n",
      "Epoch 54/100\n",
      "1/1 [==============================] - 0s 64ms/step - loss: 0.0276 - val_loss: 0.0141\n",
      "Epoch 55/100\n",
      "1/1 [==============================] - 0s 60ms/step - loss: 0.0275 - val_loss: 0.0143\n",
      "Epoch 56/100\n",
      "1/1 [==============================] - 0s 60ms/step - loss: 0.0277 - val_loss: 0.0141\n",
      "Epoch 57/100\n",
      "1/1 [==============================] - 0s 74ms/step - loss: 0.0275 - val_loss: 0.0137\n",
      "Epoch 58/100\n",
      "1/1 [==============================] - 0s 66ms/step - loss: 0.0272 - val_loss: 0.0140\n",
      "Epoch 59/100\n",
      "1/1 [==============================] - 0s 61ms/step - loss: 0.0273 - val_loss: 0.0142\n",
      "Epoch 60/100\n",
      "1/1 [==============================] - 0s 80ms/step - loss: 0.0273 - val_loss: 0.0141\n",
      "Epoch 61/100\n",
      "1/1 [==============================] - 0s 62ms/step - loss: 0.0272 - val_loss: 0.0138\n",
      "Epoch 62/100\n",
      "1/1 [==============================] - 0s 57ms/step - loss: 0.0271 - val_loss: 0.0136\n",
      "Epoch 63/100\n",
      "1/1 [==============================] - 0s 92ms/step - loss: 0.0273 - val_loss: 0.0136\n",
      "Epoch 64/100\n",
      "1/1 [==============================] - 0s 55ms/step - loss: 0.0273 - val_loss: 0.0141\n",
      "Epoch 65/100\n",
      "1/1 [==============================] - 0s 59ms/step - loss: 0.0271 - val_loss: 0.0147\n",
      "Epoch 66/100\n",
      "1/1 [==============================] - 0s 70ms/step - loss: 0.0271 - val_loss: 0.0151\n",
      "Epoch 67/100\n",
      "1/1 [==============================] - 0s 101ms/step - loss: 0.0271 - val_loss: 0.0141\n",
      "Epoch 68/100\n",
      "1/1 [==============================] - 0s 63ms/step - loss: 0.0271 - val_loss: 0.0139\n",
      "Epoch 69/100\n",
      "1/1 [==============================] - 0s 99ms/step - loss: 0.0271 - val_loss: 0.0142\n",
      "Epoch 70/100\n",
      "1/1 [==============================] - 0s 107ms/step - loss: 0.0269 - val_loss: 0.0151\n",
      "Epoch 71/100\n",
      "1/1 [==============================] - 0s 74ms/step - loss: 0.0271 - val_loss: 0.0146\n",
      "Epoch 72/100\n",
      "1/1 [==============================] - 0s 75ms/step - loss: 0.0269 - val_loss: 0.0139\n",
      "Epoch 73/100\n",
      "1/1 [==============================] - 0s 75ms/step - loss: 0.0268 - val_loss: 0.0133\n",
      "Epoch 74/100\n",
      "1/1 [==============================] - 0s 81ms/step - loss: 0.0269 - val_loss: 0.0133\n",
      "Epoch 75/100\n",
      "1/1 [==============================] - 0s 70ms/step - loss: 0.0268 - val_loss: 0.0138\n",
      "Epoch 76/100\n",
      "1/1 [==============================] - 0s 64ms/step - loss: 0.0267 - val_loss: 0.0139\n",
      "Epoch 77/100\n",
      "1/1 [==============================] - 0s 51ms/step - loss: 0.0267 - val_loss: 0.0136\n",
      "Epoch 78/100\n",
      "1/1 [==============================] - 0s 67ms/step - loss: 0.0266 - val_loss: 0.0132\n",
      "Epoch 79/100\n",
      "1/1 [==============================] - 0s 69ms/step - loss: 0.0266 - val_loss: 0.0130\n",
      "Epoch 80/100\n",
      "1/1 [==============================] - 0s 186ms/step - loss: 0.0266 - val_loss: 0.0130\n",
      "Epoch 81/100\n",
      "1/1 [==============================] - 0s 54ms/step - loss: 0.0265 - val_loss: 0.0130\n",
      "Epoch 82/100\n",
      "1/1 [==============================] - 0s 77ms/step - loss: 0.0264 - val_loss: 0.0131\n",
      "Epoch 83/100\n",
      "1/1 [==============================] - 0s 92ms/step - loss: 0.0264 - val_loss: 0.0130\n",
      "Epoch 84/100\n",
      "1/1 [==============================] - 0s 98ms/step - loss: 0.0264 - val_loss: 0.0130\n",
      "Epoch 85/100\n",
      "1/1 [==============================] - 0s 100ms/step - loss: 0.0263 - val_loss: 0.0130\n",
      "Epoch 86/100\n",
      "1/1 [==============================] - 0s 99ms/step - loss: 0.0263 - val_loss: 0.0129\n",
      "Epoch 87/100\n",
      "1/1 [==============================] - 0s 102ms/step - loss: 0.0262 - val_loss: 0.0129\n",
      "Epoch 88/100\n",
      "1/1 [==============================] - 0s 78ms/step - loss: 0.0262 - val_loss: 0.0130\n",
      "Epoch 89/100\n",
      "1/1 [==============================] - 0s 68ms/step - loss: 0.0262 - val_loss: 0.0130\n",
      "Epoch 90/100\n",
      "1/1 [==============================] - 0s 74ms/step - loss: 0.0262 - val_loss: 0.0129\n",
      "Epoch 91/100\n",
      "1/1 [==============================] - 0s 87ms/step - loss: 0.0261 - val_loss: 0.0129\n",
      "Epoch 92/100\n",
      "1/1 [==============================] - 0s 81ms/step - loss: 0.0261 - val_loss: 0.0128\n",
      "Epoch 93/100\n",
      "1/1 [==============================] - 0s 74ms/step - loss: 0.0260 - val_loss: 0.0128\n",
      "Epoch 94/100\n",
      "1/1 [==============================] - 0s 69ms/step - loss: 0.0260 - val_loss: 0.0128\n",
      "Epoch 95/100\n",
      "1/1 [==============================] - 0s 77ms/step - loss: 0.0260 - val_loss: 0.0126\n",
      "Epoch 96/100\n",
      "1/1 [==============================] - 0s 56ms/step - loss: 0.0259 - val_loss: 0.0125\n",
      "Epoch 97/100\n",
      "1/1 [==============================] - 0s 62ms/step - loss: 0.0258 - val_loss: 0.0126\n",
      "Epoch 98/100\n",
      "1/1 [==============================] - 0s 52ms/step - loss: 0.0258 - val_loss: 0.0125\n",
      "Epoch 99/100\n",
      "1/1 [==============================] - 0s 61ms/step - loss: 0.0257 - val_loss: 0.0123\n",
      "Epoch 100/100\n",
      "1/1 [==============================] - 0s 66ms/step - loss: 0.0257 - val_loss: 0.0124\n"
     ]
    },
    {
     "data": {
      "text/plain": [
       "<keras.callbacks.History at 0x164606c8400>"
      ]
     },
     "execution_count": 6,
     "metadata": {},
     "output_type": "execute_result"
    }
   ],
   "source": [
    "model = build_model(etl.test_x.shape[1:])\n",
    "model.compile(optimizer='adam', loss='mean_absolute_error')\n",
    "model.fit(etl.train_x,\n",
    "            etl.train_y,\n",
    "            epochs=100,\n",
    "            batch_size=32,\n",
    "            validation_split=0.2,\n",
    "            shuffle=False\n",
    "        )"
   ]
  },
  {
   "cell_type": "code",
   "execution_count": 11,
   "metadata": {},
   "outputs": [
    {
     "name": "stdout",
     "output_type": "stream",
     "text": [
      "1/1 [==============================] - 0s 35ms/step\n"
     ]
    }
   ],
   "source": [
    "predict = Predict(model, etl.test_x, etl.test_y)\n",
    "evaluate = Evaluate(etl.inverse_scale(etl.test_y), etl.inverse_scale(predict.predictions))"
   ]
  },
  {
   "cell_type": "code",
   "execution_count": 12,
   "metadata": {},
   "outputs": [
    {
     "name": "stdout",
     "output_type": "stream",
     "text": [
      "| Metric         |       Value |\n",
      "|----------------|-------------|\n",
      "| MSE            | 637.586     |\n",
      "| RMSE           |  25.2505    |\n",
      "| MAE            |  19.3574    |\n",
      "| R2             |   0.730268  |\n",
      "| MAPE           |   0.0512398 |\n",
      "| Variance Ratio |   0.320639  |\n"
     ]
    }
   ],
   "source": [
    "evaluate.print()"
   ]
  },
  {
   "cell_type": "code",
   "execution_count": 13,
   "metadata": {},
   "outputs": [
    {
     "data": {
      "image/png": "[encoded data removed]",
      "text/plain": [
       "<Figure size 1200x600 with 1 Axes>"
      ]
     },
     "metadata": {},
     "output_type": "display_data"
    }
   ],
   "source": [
    "evaluate.plot()"
   ]
  }
 ],
 "metadata": {
  "kernelspec": {
   "display_name": "Python 3",
   "language": "python",
   "name": "python3"
  },
  "language_info": {
   "codemirror_mode": {
    "name": "ipython",
    "version": 3
   },
   "file_extension": ".py",
   "mimetype": "text/x-python",
   "name": "python",
   "nbconvert_exporter": "python",
   "pygments_lexer": "ipython3",
   "version": "3.10.11"
  },
  "orig_nbformat": 4
 },
 "nbformat": 4,
 "nbformat_minor": 2
}

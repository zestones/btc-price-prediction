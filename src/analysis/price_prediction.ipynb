{
 "cells": [
  {
   "cell_type": "code",
   "execution_count": 39,
   "metadata": {},
   "outputs": [],
   "source": [
    "import sys\n",
    "sys.path.append(\"..\")"
   ]
  },
  {
   "cell_type": "code",
   "execution_count": 40,
   "metadata": {},
   "outputs": [
    {
     "name": "stdout",
     "output_type": "stream",
     "text": [
      "The autoreload extension is already loaded. To reload it, use:\n",
      "  %reload_ext autoreload\n"
     ]
    }
   ],
   "source": [
    "# for auto-reload\n",
    "%load_ext autoreload\n",
    "%aimport predictions.etl\n",
    "%aimport predictions.evaluate\n",
    "%aimport predictions.predict\n",
    "%aimport retrieval.data_retriever\n",
    "%autoreload 1"
   ]
  },
  {
   "cell_type": "code",
   "execution_count": 41,
   "metadata": {},
   "outputs": [],
   "source": [
    "from predictions.etl import ETL\n",
    "from predictions.evaluate import Evaluate\n",
    "from predictions.predict import Predict\n",
    "\n",
    "from keras.models import Sequential\n",
    "from keras.layers import Dense\n",
    "from keras.layers import LSTM"
   ]
  },
  {
   "cell_type": "code",
   "execution_count": 42,
   "metadata": {},
   "outputs": [],
   "source": [
    "import random\n",
    "import numpy as np\n",
    "import tensorflow as tf\n",
    "import os\n",
    "\n",
    "def enable_deterministic_mode():\n",
    "    SEED = 42\n",
    "\n",
    "    np.random.seed(SEED)\n",
    "    random.seed(SEED)\n",
    "    tf.random.set_seed(SEED)\n",
    "\n",
    "    tf.keras.backend.clear_session()  # For easy reset of notebook state\n",
    "    tf.keras.utils.set_random_seed(SEED)\n",
    "    \n",
    "    os.environ['PYTHONHASHSEED'] = '0'\n",
    "    os.environ['TF_DETERMINISTIC_OPS'] = '1'\n",
    "    \n",
    "enable_deterministic_mode()"
   ]
  },
  {
   "cell_type": "code",
   "execution_count": 43,
   "metadata": {},
   "outputs": [],
   "source": [
    "def build_model(intput_shape):\n",
    "    model = Sequential()\n",
    "    \n",
    "    model.add(LSTM(128, return_sequences=True, input_shape=intput_shape))\n",
    "    model.add(LSTM(128))\n",
    "    model.add(Dense(1))\n",
    "    \n",
    "    return model"
   ]
  },
  {
   "cell_type": "code",
   "execution_count": 44,
   "metadata": {},
   "outputs": [],
   "source": [
    "etl = ETL(\"../../data/bitcoin/price.csv\", features=['Price'])\n",
    "# etl = ETL(\"../../data/timeseries/coins/bitcoin_chart.csv\", features=['Price'])"
   ]
  },
  {
   "cell_type": "code",
   "execution_count": 45,
   "metadata": {},
   "outputs": [
    {
     "name": "stdout",
     "output_type": "stream",
     "text": [
      "Epoch 1/100\n",
      "11/11 [==============================] - 5s 116ms/step - loss: 0.0420 - val_loss: 0.3193\n",
      "Epoch 2/100\n",
      "11/11 [==============================] - 0s 16ms/step - loss: 0.0364 - val_loss: 0.2035\n",
      "Epoch 3/100\n",
      "11/11 [==============================] - 0s 16ms/step - loss: 0.0071 - val_loss: 0.0419\n",
      "Epoch 4/100\n",
      "11/11 [==============================] - 0s 16ms/step - loss: 0.0182 - val_loss: 0.1372\n",
      "Epoch 5/100\n",
      "11/11 [==============================] - 0s 16ms/step - loss: 0.0272 - val_loss: 0.0464\n",
      "Epoch 6/100\n",
      "11/11 [==============================] - 0s 16ms/step - loss: 0.0100 - val_loss: 0.0262\n",
      "Epoch 7/100\n",
      "11/11 [==============================] - 0s 16ms/step - loss: 0.0144 - val_loss: 0.0788\n",
      "Epoch 8/100\n",
      "11/11 [==============================] - 0s 16ms/step - loss: 0.0111 - val_loss: 0.0935\n",
      "Epoch 9/100\n",
      "11/11 [==============================] - 0s 16ms/step - loss: 0.0120 - val_loss: 0.0418\n",
      "Epoch 10/100\n",
      "11/11 [==============================] - 0s 20ms/step - loss: 0.0069 - val_loss: 0.0239\n",
      "Epoch 11/100\n",
      "11/11 [==============================] - 0s 18ms/step - loss: 0.0206 - val_loss: 0.0437\n",
      "Epoch 12/100\n",
      "11/11 [==============================] - 0s 17ms/step - loss: 0.0167 - val_loss: 0.0308\n",
      "Epoch 13/100\n",
      "11/11 [==============================] - 0s 17ms/step - loss: 0.0253 - val_loss: 0.0595\n",
      "Epoch 14/100\n",
      "11/11 [==============================] - 0s 17ms/step - loss: 0.0055 - val_loss: 0.0341\n",
      "Epoch 15/100\n",
      "11/11 [==============================] - 0s 17ms/step - loss: 0.0098 - val_loss: 0.0453\n",
      "Epoch 16/100\n",
      "11/11 [==============================] - 0s 17ms/step - loss: 0.0178 - val_loss: 0.0588\n",
      "Epoch 17/100\n",
      "11/11 [==============================] - 0s 16ms/step - loss: 0.0060 - val_loss: 0.0520\n",
      "Epoch 18/100\n",
      "11/11 [==============================] - 0s 17ms/step - loss: 0.0054 - val_loss: 0.0715\n",
      "Epoch 19/100\n",
      "11/11 [==============================] - 0s 17ms/step - loss: 0.0076 - val_loss: 0.0656\n",
      "Epoch 20/100\n",
      "11/11 [==============================] - 0s 17ms/step - loss: 0.0106 - val_loss: 0.0370\n",
      "Epoch 21/100\n",
      "11/11 [==============================] - 0s 17ms/step - loss: 0.0132 - val_loss: 0.0760\n",
      "Epoch 22/100\n",
      "11/11 [==============================] - 0s 17ms/step - loss: 0.0079 - val_loss: 0.0323\n",
      "Epoch 23/100\n",
      "11/11 [==============================] - 0s 17ms/step - loss: 0.0076 - val_loss: 0.0236\n",
      "Epoch 24/100\n",
      "11/11 [==============================] - 0s 17ms/step - loss: 0.0206 - val_loss: 0.0431\n",
      "Epoch 25/100\n",
      "11/11 [==============================] - 0s 16ms/step - loss: 0.0093 - val_loss: 0.0278\n",
      "Epoch 26/100\n",
      "11/11 [==============================] - 0s 16ms/step - loss: 0.0219 - val_loss: 0.0474\n",
      "Epoch 27/100\n",
      "11/11 [==============================] - 0s 16ms/step - loss: 0.0106 - val_loss: 0.0469\n",
      "Epoch 28/100\n",
      "11/11 [==============================] - 0s 17ms/step - loss: 0.0175 - val_loss: 0.1013\n",
      "Epoch 29/100\n",
      "11/11 [==============================] - 0s 17ms/step - loss: 0.0078 - val_loss: 0.0464\n",
      "Epoch 30/100\n",
      "11/11 [==============================] - 0s 17ms/step - loss: 0.0171 - val_loss: 0.0887\n",
      "Epoch 31/100\n",
      "11/11 [==============================] - 0s 17ms/step - loss: 0.0078 - val_loss: 0.1497\n",
      "Epoch 32/100\n",
      "11/11 [==============================] - 0s 17ms/step - loss: 0.0145 - val_loss: 0.0411\n",
      "Epoch 33/100\n",
      "11/11 [==============================] - 0s 19ms/step - loss: 0.0218 - val_loss: 0.0454\n",
      "Epoch 34/100\n",
      "11/11 [==============================] - 0s 16ms/step - loss: 0.0098 - val_loss: 0.1675\n",
      "Epoch 35/100\n",
      "11/11 [==============================] - 0s 17ms/step - loss: 0.0068 - val_loss: 0.1605\n",
      "Epoch 36/100\n",
      "11/11 [==============================] - 0s 32ms/step - loss: 0.0123 - val_loss: 0.0381\n",
      "Epoch 37/100\n",
      "11/11 [==============================] - 0s 17ms/step - loss: 0.0224 - val_loss: 0.0584\n",
      "Epoch 38/100\n",
      "11/11 [==============================] - 0s 17ms/step - loss: 0.0133 - val_loss: 0.0960\n",
      "Epoch 39/100\n",
      "11/11 [==============================] - 0s 17ms/step - loss: 0.0072 - val_loss: 0.1829\n",
      "Epoch 40/100\n",
      "11/11 [==============================] - 0s 17ms/step - loss: 0.0106 - val_loss: 0.0436\n",
      "Epoch 41/100\n",
      "11/11 [==============================] - 0s 17ms/step - loss: 0.0203 - val_loss: 0.0638\n",
      "Epoch 42/100\n",
      "11/11 [==============================] - 0s 17ms/step - loss: 0.0149 - val_loss: 0.1096\n",
      "Epoch 43/100\n",
      "11/11 [==============================] - 0s 17ms/step - loss: 0.0082 - val_loss: 0.1482\n",
      "Epoch 44/100\n",
      "11/11 [==============================] - 0s 17ms/step - loss: 0.0109 - val_loss: 0.0445\n",
      "Epoch 45/100\n",
      "11/11 [==============================] - 0s 16ms/step - loss: 0.0171 - val_loss: 0.0949\n",
      "Epoch 46/100\n",
      "11/11 [==============================] - 0s 17ms/step - loss: 0.0070 - val_loss: 0.1331\n",
      "Epoch 47/100\n",
      "11/11 [==============================] - 0s 18ms/step - loss: 0.0108 - val_loss: 0.1728\n",
      "Epoch 48/100\n",
      "11/11 [==============================] - 0s 17ms/step - loss: 0.0091 - val_loss: 0.1081\n",
      "Epoch 49/100\n",
      "11/11 [==============================] - 0s 16ms/step - loss: 0.0136 - val_loss: 0.1314\n",
      "Epoch 50/100\n",
      "11/11 [==============================] - 0s 17ms/step - loss: 0.0043 - val_loss: 0.1525\n",
      "Epoch 51/100\n",
      "11/11 [==============================] - 0s 16ms/step - loss: 0.0093 - val_loss: 0.1774\n",
      "Epoch 52/100\n",
      "11/11 [==============================] - 0s 17ms/step - loss: 0.0085 - val_loss: 0.2277\n",
      "Epoch 53/100\n",
      "11/11 [==============================] - 0s 17ms/step - loss: 0.0189 - val_loss: 0.0476\n",
      "Epoch 54/100\n",
      "11/11 [==============================] - 0s 17ms/step - loss: 0.0108 - val_loss: 0.1229\n",
      "Epoch 55/100\n",
      "11/11 [==============================] - 0s 16ms/step - loss: 0.0066 - val_loss: 0.2153\n",
      "Epoch 56/100\n",
      "11/11 [==============================] - 0s 19ms/step - loss: 0.0045 - val_loss: 0.1320\n",
      "Epoch 57/100\n",
      "11/11 [==============================] - 0s 17ms/step - loss: 0.0030 - val_loss: 0.1162\n",
      "Epoch 58/100\n",
      "11/11 [==============================] - 0s 17ms/step - loss: 0.0068 - val_loss: 0.1422\n",
      "Epoch 59/100\n",
      "11/11 [==============================] - 0s 16ms/step - loss: 0.0042 - val_loss: 0.1181\n",
      "Epoch 60/100\n",
      "11/11 [==============================] - 0s 17ms/step - loss: 0.0065 - val_loss: 0.0486\n",
      "Epoch 61/100\n",
      "11/11 [==============================] - 0s 17ms/step - loss: 0.0128 - val_loss: 0.0975\n",
      "Epoch 62/100\n",
      "11/11 [==============================] - 0s 17ms/step - loss: 0.0084 - val_loss: 0.0572\n",
      "Epoch 63/100\n",
      "11/11 [==============================] - 0s 17ms/step - loss: 0.0167 - val_loss: 0.0824\n",
      "Epoch 64/100\n",
      "11/11 [==============================] - 0s 16ms/step - loss: 0.0118 - val_loss: 0.0387\n",
      "Epoch 65/100\n",
      "11/11 [==============================] - 0s 17ms/step - loss: 0.0089 - val_loss: 0.1347\n",
      "Epoch 66/100\n",
      "11/11 [==============================] - 0s 16ms/step - loss: 0.0034 - val_loss: 0.1138\n",
      "Epoch 67/100\n",
      "11/11 [==============================] - 0s 17ms/step - loss: 0.0037 - val_loss: 0.0791\n",
      "Epoch 68/100\n",
      "11/11 [==============================] - 0s 17ms/step - loss: 0.0084 - val_loss: 0.1352\n",
      "Epoch 69/100\n",
      "11/11 [==============================] - 0s 17ms/step - loss: 0.0079 - val_loss: 0.0552\n",
      "Epoch 70/100\n",
      "11/11 [==============================] - 0s 17ms/step - loss: 0.0139 - val_loss: 0.0577\n",
      "Epoch 71/100\n",
      "11/11 [==============================] - 0s 16ms/step - loss: 0.0041 - val_loss: 0.1104\n",
      "Epoch 72/100\n",
      "11/11 [==============================] - 0s 16ms/step - loss: 0.0072 - val_loss: 0.0428\n",
      "Epoch 73/100\n",
      "11/11 [==============================] - 0s 27ms/step - loss: 0.0081 - val_loss: 0.1296\n",
      "Epoch 74/100\n",
      "11/11 [==============================] - 0s 16ms/step - loss: 0.0082 - val_loss: 0.0566\n",
      "Epoch 75/100\n",
      "11/11 [==============================] - 0s 17ms/step - loss: 0.0127 - val_loss: 0.0640\n",
      "Epoch 76/100\n",
      "11/11 [==============================] - 0s 16ms/step - loss: 0.0047 - val_loss: 0.1165\n",
      "Epoch 77/100\n",
      "11/11 [==============================] - 0s 18ms/step - loss: 0.0075 - val_loss: 0.0305\n",
      "Epoch 78/100\n",
      "11/11 [==============================] - 0s 17ms/step - loss: 0.0160 - val_loss: 0.0564\n",
      "Epoch 79/100\n",
      "11/11 [==============================] - 0s 16ms/step - loss: 0.0094 - val_loss: 0.0619\n",
      "Epoch 80/100\n",
      "11/11 [==============================] - 0s 17ms/step - loss: 0.0091 - val_loss: 0.1375\n",
      "Epoch 81/100\n",
      "11/11 [==============================] - 0s 16ms/step - loss: 0.0120 - val_loss: 0.0631\n",
      "Epoch 82/100\n",
      "11/11 [==============================] - 0s 16ms/step - loss: 0.0144 - val_loss: 0.0918\n",
      "Epoch 83/100\n",
      "11/11 [==============================] - 0s 17ms/step - loss: 0.0049 - val_loss: 0.0937\n",
      "Epoch 84/100\n",
      "11/11 [==============================] - 0s 17ms/step - loss: 0.0062 - val_loss: 0.1337\n",
      "Epoch 85/100\n",
      "11/11 [==============================] - 0s 17ms/step - loss: 0.0051 - val_loss: 0.0678\n",
      "Epoch 86/100\n",
      "11/11 [==============================] - 0s 17ms/step - loss: 0.0059 - val_loss: 0.1232\n",
      "Epoch 87/100\n",
      "11/11 [==============================] - 0s 17ms/step - loss: 0.0038 - val_loss: 0.0824\n",
      "Epoch 88/100\n",
      "11/11 [==============================] - 0s 16ms/step - loss: 0.0040 - val_loss: 0.0671\n",
      "Epoch 89/100\n",
      "11/11 [==============================] - 0s 17ms/step - loss: 0.0046 - val_loss: 0.0715\n",
      "Epoch 90/100\n",
      "11/11 [==============================] - 0s 16ms/step - loss: 0.0063 - val_loss: 0.0348\n",
      "Epoch 91/100\n",
      "11/11 [==============================] - 0s 17ms/step - loss: 0.0063 - val_loss: 0.0969\n",
      "Epoch 92/100\n",
      "11/11 [==============================] - 0s 16ms/step - loss: 0.0108 - val_loss: 0.0235\n",
      "Epoch 93/100\n",
      "11/11 [==============================] - 0s 16ms/step - loss: 0.0153 - val_loss: 0.0291\n",
      "Epoch 94/100\n",
      "11/11 [==============================] - 0s 17ms/step - loss: 0.0118 - val_loss: 0.0296\n",
      "Epoch 95/100\n",
      "11/11 [==============================] - 0s 22ms/step - loss: 0.0051 - val_loss: 0.0955\n",
      "Epoch 96/100\n",
      "11/11 [==============================] - 0s 22ms/step - loss: 0.0052 - val_loss: 0.0327\n",
      "Epoch 97/100\n",
      "11/11 [==============================] - 0s 17ms/step - loss: 0.0099 - val_loss: 0.0320\n",
      "Epoch 98/100\n",
      "11/11 [==============================] - 0s 16ms/step - loss: 0.0048 - val_loss: 0.0655\n",
      "Epoch 99/100\n",
      "11/11 [==============================] - 0s 17ms/step - loss: 0.0069 - val_loss: 0.0235\n",
      "Epoch 100/100\n",
      "11/11 [==============================] - 0s 28ms/step - loss: 0.0083 - val_loss: 0.0648\n"
     ]
    },
    {
     "data": {
      "text/plain": [
       "<keras.callbacks.History at 0x1c0edab48e0>"
      ]
     },
     "execution_count": 45,
     "metadata": {},
     "output_type": "execute_result"
    }
   ],
   "source": [
    "model = build_model(etl.test_x.shape[1:])\n",
    "model.compile(optimizer='adam', loss='mean_absolute_error')\n",
    "model.fit(etl.train_x,\n",
    "            etl.train_y,\n",
    "            epochs=100,\n",
    "            batch_size=32,\n",
    "            validation_split=0.2,\n",
    "            shuffle=False\n",
    "        )"
   ]
  },
  {
   "cell_type": "code",
   "execution_count": 46,
   "metadata": {},
   "outputs": [
    {
     "name": "stdout",
     "output_type": "stream",
     "text": [
      "4/4 [==============================] - 1s 5ms/step\n"
     ]
    }
   ],
   "source": [
    "predict = Predict(model, etl.test_x, etl.test_y)\n",
    "evaluate = Evaluate(etl.inverse_scale(etl.test_y), etl.inverse_scale(predict.predictions))"
   ]
  },
  {
   "cell_type": "code",
   "execution_count": 47,
   "metadata": {},
   "outputs": [
    {
     "name": "stdout",
     "output_type": "stream",
     "text": [
      "| Metric         |          Value |\n",
      "|----------------|----------------|\n",
      "| MSE            |    4.92978e+07 |\n",
      "| RMSE           | 7021.24        |\n",
      "| MAE            | 5328.31        |\n",
      "| R2             |    0.606756    |\n",
      "| MAPE           |    0.153864    |\n",
      "| Variance Ratio |    0.90695     |\n"
     ]
    }
   ],
   "source": [
    "evaluate.print()"
   ]
  },
  {
   "cell_type": "code",
   "execution_count": 48,
   "metadata": {},
   "outputs": [
    {
     "data": {
      "image/png": "[encoded data removed]",
      "text/plain": [
       "<Figure size 1200x600 with 1 Axes>"
      ]
     },
     "metadata": {},
     "output_type": "display_data"
    }
   ],
   "source": [
    "evaluate.plot()"
   ]
  },
  {
   "cell_type": "code",
   "execution_count": 56,
   "metadata": {},
   "outputs": [
    {
     "data": {
      "text/html": [
       "<div>\n",
       "<style scoped>\n",
       "    .dataframe tbody tr th:only-of-type {\n",
       "        vertical-align: middle;\n",
       "    }\n",
       "\n",
       "    .dataframe tbody tr th {\n",
       "        vertical-align: top;\n",
       "    }\n",
       "\n",
       "    .dataframe thead th {\n",
       "        text-align: right;\n",
       "    }\n",
       "</style>\n",
       "<table border=\"1\" class=\"dataframe\">\n",
       "  <thead>\n",
       "    <tr style=\"text-align: right;\">\n",
       "      <th></th>\n",
       "      <th>Price</th>\n",
       "    </tr>\n",
       "  </thead>\n",
       "  <tbody>\n",
       "    <tr>\n",
       "      <th>0</th>\n",
       "      <td>135.30</td>\n",
       "    </tr>\n",
       "    <tr>\n",
       "      <th>1</th>\n",
       "      <td>141.96</td>\n",
       "    </tr>\n",
       "    <tr>\n",
       "      <th>2</th>\n",
       "      <td>135.30</td>\n",
       "    </tr>\n",
       "    <tr>\n",
       "      <th>3</th>\n",
       "      <td>117.00</td>\n",
       "    </tr>\n",
       "    <tr>\n",
       "      <th>4</th>\n",
       "      <td>103.43</td>\n",
       "    </tr>\n",
       "  </tbody>\n",
       "</table>\n",
       "</div>"
      ],
      "text/plain": [
       "    Price\n",
       "0  135.30\n",
       "1  141.96\n",
       "2  135.30\n",
       "3  117.00\n",
       "4  103.43"
      ]
     },
     "execution_count": 56,
     "metadata": {},
     "output_type": "execute_result"
    }
   ],
   "source": [
    "import pandas as pd\n",
    "df_price = pd.read_csv(\"../../data/bitcoin/price.csv\")\n",
    "df_original = pd.read_csv(\"../../data/timeseries/coins/bitcoin_chart.csv\")\n",
    "\n",
    "df_original = df_original[['Price']]\n",
    "df_price.head()"
   ]
  },
  {
   "cell_type": "code",
   "execution_count": 57,
   "metadata": {},
   "outputs": [
    {
     "data": {
      "text/html": [
       "<div>\n",
       "<style scoped>\n",
       "    .dataframe tbody tr th:only-of-type {\n",
       "        vertical-align: middle;\n",
       "    }\n",
       "\n",
       "    .dataframe tbody tr th {\n",
       "        vertical-align: top;\n",
       "    }\n",
       "\n",
       "    .dataframe thead th {\n",
       "        text-align: right;\n",
       "    }\n",
       "</style>\n",
       "<table border=\"1\" class=\"dataframe\">\n",
       "  <thead>\n",
       "    <tr style=\"text-align: right;\">\n",
       "      <th></th>\n",
       "      <th>Price</th>\n",
       "    </tr>\n",
       "  </thead>\n",
       "  <tbody>\n",
       "    <tr>\n",
       "      <th>0</th>\n",
       "      <td>135.30</td>\n",
       "    </tr>\n",
       "    <tr>\n",
       "      <th>1</th>\n",
       "      <td>141.96</td>\n",
       "    </tr>\n",
       "    <tr>\n",
       "      <th>2</th>\n",
       "      <td>135.30</td>\n",
       "    </tr>\n",
       "    <tr>\n",
       "      <th>3</th>\n",
       "      <td>117.00</td>\n",
       "    </tr>\n",
       "    <tr>\n",
       "      <th>4</th>\n",
       "      <td>103.43</td>\n",
       "    </tr>\n",
       "  </tbody>\n",
       "</table>\n",
       "</div>"
      ],
      "text/plain": [
       "    Price\n",
       "0  135.30\n",
       "1  141.96\n",
       "2  135.30\n",
       "3  117.00\n",
       "4  103.43"
      ]
     },
     "execution_count": 57,
     "metadata": {},
     "output_type": "execute_result"
    }
   ],
   "source": [
    "df_original.head()"
   ]
  },
  {
   "cell_type": "code",
   "execution_count": 63,
   "metadata": {},
   "outputs": [],
   "source": [
    "df = pd.concat([df_original, df_price], axis=1, keys=['Original', 'Price'])\n",
    "\n",
    "# save df\n",
    "df.to_csv(\"../../data/bitcoin/price.csv\", index=False)"
   ]
  }
 ],
 "metadata": {
  "kernelspec": {
   "display_name": "Python 3",
   "language": "python",
   "name": "python3"
  },
  "language_info": {
   "codemirror_mode": {
    "name": "ipython",
    "version": 3
   },
   "file_extension": ".py",
   "mimetype": "text/x-python",
   "name": "python",
   "nbconvert_exporter": "python",
   "pygments_lexer": "ipython3",
   "version": "3.10.11"
  },
  "orig_nbformat": 4
 },
 "nbformat": 4,
 "nbformat_minor": 2
}
